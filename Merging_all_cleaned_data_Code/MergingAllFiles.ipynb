{
 "cells": [
  {
   "cell_type": "code",
   "execution_count": 53,
   "metadata": {},
   "outputs": [],
   "source": [
    "## Importing Libraries ##\n",
    "import pandas as pd\n",
    "import numpy as np\n",
    "import seaborn as sns\n",
    "import xlrd\n",
    "import openpyxl\n",
    "from timeit import default_timer as timer\n",
    "from datetime import datetime\n",
    "from sklearn import *\n",
    "import copy"
   ]
  },
  {
   "cell_type": "code",
   "execution_count": 54,
   "metadata": {},
   "outputs": [],
   "source": [
    "## Importing libraries ##\n",
    "df = pd.read_csv('cleaning_water_height_dataset.csv')\n",
    "event_data = pd.read_csv('cleaned_event_dataset.csv')\n",
    "accum_data = pd.read_csv('cleaned_accumulation_dataset.csv')\n",
    "\n",
    "## Definting dataframe ## \n",
    "df_concat = pd.DataFrame()\n",
    "\n",
    "## Setting focused variable ##\n",
    "target = 'Billinudgel (Marshalls Creek)'\n",
    "tar_days = 4"
   ]
  },
  {
   "cell_type": "code",
   "execution_count": 56,
   "metadata": {},
   "outputs": [],
   "source": [
    "## Processing data ##\n",
    "\n",
    "## Processing rain data ##\n",
    "df['Unnamed: 0'] = pd.to_datetime(df['Unnamed: 0'])\n",
    "df = df.set_index('Unnamed: 0')\n",
    "\n",
    "## Processing rain data ##\n",
    "event_data['Unnamed: 0'] = pd.to_datetime(event_data['Unnamed: 0'])\n",
    "event_data = event_data.set_index('Unnamed: 0')\n",
    "\n",
    "## Processing Guage data ##\n",
    "accum_data.OBS_TIME_LOC = pd.to_datetime(accum_data['OBS_TIME_LOC'])\n",
    "accum_data = accum_data.set_index('OBS_TIME_LOC')"
   ]
  },
  {
   "cell_type": "code",
   "execution_count": 57,
   "metadata": {},
   "outputs": [],
   "source": [
    "## Feature manipulation ##\n",
    "MA, SMA, WSMA = [], [], []\n",
    "\n",
    "for i in range(0,len(df)):\n",
    "    MA.append((df[str(target)][i-1-tar_days]+df[str(target)][i-tar_days])/2 + \n",
    "    (df[str(target)][i-tar_days] - df[str(target)][i-1-tar_days]))\n",
    "\n",
    "for i in range(0,len(df)):\n",
    "    SMA.append((((df[str(target)][i-1-tar_days]+df[str(target)][i-tar_days])/2 + \n",
    "    (df[str(target)][i-tar_days] - df[str(target)][i-1-tar_days]))*2  +\n",
    "    ((df[str(target)][i-2-tar_days]+df[str(target)][i-tar_days])/2 + \n",
    "    (df[str(target)][i-tar_days] - df[str(target)][i-2-tar_days])))/3)\n",
    "    \n",
    "for i in range(0,len(df)):\n",
    "    WSMA.append((MA[i-tar_days]*0.1) + (df[str(target)][i-tar_days]*0.9))\n",
    "\n",
    "## Definting variables ##\n",
    "df['moving_average'], df['smooth_moving_average'], df['weakly_smooth_moving_average'] = MA, SMA, WSMA "
   ]
  },
  {
   "cell_type": "code",
   "execution_count": 58,
   "metadata": {},
   "outputs": [],
   "source": [
    "## Merging datasets ##\n",
    "merged = pd.concat([df, event_data], axis=1)\n",
    "df = merged.dropna()\n",
    "\n",
    "## Merging dataset guage ##\n",
    "merged  = pd.concat([accum_data,df],axis=1)\n",
    "merged  = merged.dropna()"
   ]
  },
  {
   "cell_type": "code",
   "execution_count": 59,
   "metadata": {},
   "outputs": [],
   "source": [
    "## Feature manipulation ## \n",
    "merged ['maxdiff'] = merged.diff().max(axis=1)\n",
    "\n",
    "## Retrieving future and previous target results ##\n",
    "merged ['future_pred'] = merged [str(target)].shift(-tar_days)\n",
    "merged ['prev'] = merged [str(target)].shift(5)\n",
    "merged ['prevWeek'] = merged [str(target)].shift(14) \n",
    "merged  = merged.dropna()"
   ]
  },
  {
   "cell_type": "code",
   "execution_count": 61,
   "metadata": {},
   "outputs": [],
   "source": [
    "## Importing to merge files ##\n",
    "merged.to_csv('mergedFiles.csv')"
   ]
  },
  {
   "cell_type": "code",
   "execution_count": null,
   "metadata": {},
   "outputs": [],
   "source": []
  }
 ],
 "metadata": {
  "kernelspec": {
   "display_name": "Python 3 (ipykernel)",
   "language": "python",
   "name": "python3"
  },
  "language_info": {
   "codemirror_mode": {
    "name": "ipython",
    "version": 3
   },
   "file_extension": ".py",
   "mimetype": "text/x-python",
   "name": "python",
   "nbconvert_exporter": "python",
   "pygments_lexer": "ipython3",
   "version": "3.7.13"
  }
 },
 "nbformat": 4,
 "nbformat_minor": 4
}
